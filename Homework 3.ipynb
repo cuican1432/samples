{
 "cells": [
  {
   "cell_type": "markdown",
   "metadata": {},
   "source": [
    "# Introduction to Data Science\n",
    "## Homework 3"
   ]
  },
  {
   "cell_type": "markdown",
   "metadata": {},
   "source": [
    "Student Name: Can Cui\n",
    "\n",
    "Student Netid: N12643845\n",
    "***"
   ]
  },
  {
   "cell_type": "markdown",
   "metadata": {},
   "source": [
    "### Part 1 (5 Points)\n",
    "Assume that $X$ and $Y$ are discrete random variables. The formulas for Mutual Information, Entropy and Conditional Entropy are given by:\n",
    "\n",
    "$$\\text{Mutual Information} = \\sum_{y \\in Y} \\sum_{x \\in X} p(x, y) \\cdot log\\frac{p(x, y)}{p(x)p(y)}$$\n",
    "\n",
    "$$\\text{Entropy} = H(Y) = -\\sum_{y \\in Y} p(y) \\cdot log(p(y))$$\n",
    "\n",
    "$$\\text{Conditional Entropy} = H(Y \\mid X) = \\sum_{x \\in X} p(x) \\cdot H(Y \\mid X = x)$$\n",
    "\n",
    "Show mathematically that $\\text{Mutual Information} = \\text{Information Gain}$, where $\\text{Information Gain} = H(Y) – H(Y \\mid X)$. Give the derivation below (note, this can be done using Latex math notation, which renders nicely. See above. Feel free to do it by hand and submit an image of your proof)."
   ]
  },
  {
   "cell_type": "markdown",
   "metadata": {},
   "source": [
    "$$ H(Y) – H(Y \\mid X) =  -\\sum_{y \\in Y} p(y) \\cdot log(p(y)) - \\sum_{x \\in X} p(x) \\cdot H(Y \\mid X = x)$$\n",
    "$$= -\\sum_{y \\in Y} p(y) \\cdot log(p(y)) + \\sum_{x \\in X} p(x) \\cdot \\sum_{y \\in Y} p(y\\mid x) \\cdot log(p(y \\mid x))$$\n",
    "$$= -\\sum_{y \\in Y} p(y) \\cdot log(p(y)) + \\sum_{x \\in X}\\sum_{y \\in Y}  p(x)p(y\\mid x) \\cdot log(p(y \\mid x))$$\n",
    "$$= -\\sum_{y \\in Y} p(y) \\cdot log(p(y)) + \\sum_{x \\in X}\\sum_{y \\in Y}  p(x,y) \\cdot log(\\frac{p(y,x)}{p(x)})$$\n",
    "$$= -\\sum_{y \\in Y}\\sum_{x \\in X} p(x,y) \\cdot log(p(y)) + \\sum_{x \\in X}\\sum_{y \\in Y}  p(x,y) \\cdot log(\\frac{p(y,x)}{p(x)})$$\n",
    "$$= \\sum_{x \\in X}\\sum_{y \\in Y}  p(x,y) \\cdot (log\\frac{p(y,x)}{p(x)}-log(p(y)))$$\n",
    "$$= \\sum_{x \\in X}\\sum_{y \\in Y}  p(x,y) \\cdot log\\frac{p(y,x)}{p(x)p(y)}$$"
   ]
  },
  {
   "cell_type": "markdown",
   "metadata": {},
   "source": [
    "### Part 2 - Preparing a Training Set and Training a Decision Tree (10 Points)\n",
    "This is a hands-on task where we build a predictive model using Decision Trees discussed in class. For this part, we will be using the data in `cell2cell_data.csv`.\n",
    "\n",
    "These historical data consist of 39,859 customers: 19,901 customers that churned (i.e., left the company) and 19,958 that did not churn (see the `\"churndep\"` variable). Here are the data set's 11 possible predictor variables for churning behavior: \n",
    "\n",
    "```\n",
    "Pos.  Var. Name  Var. Description\n",
    "----- ---------- --------------------------------------------------------------\n",
    "1     revenue    Mean monthly revenue in dollars\n",
    "2     outcalls   Mean number of outbound voice calls\n",
    "3     incalls    Mean number of inbound voice calls\n",
    "4     months     Months in Service\n",
    "5     eqpdays    Number of days the customer has had his/her current equipment\n",
    "6     webcap     Handset is web capable\n",
    "7     marryyes   Married (1=Yes; 0=No)\n",
    "8     travel     Has traveled to non-US country (1=Yes; 0=No)\n",
    "9     pcown      Owns a personal computer (1=Yes; 0=No)\n",
    "10    creditcd   Possesses a credit card (1=Yes; 0=No)\n",
    "11    retcalls   Number of calls previously made to retention team\n",
    "```\n",
    "\n",
    "The 12th column, the dependent variable `\"churndep\"`, equals 1 if the customer churned, and 0 otherwise. "
   ]
  },
  {
   "cell_type": "markdown",
   "metadata": {},
   "source": [
    "1\\. Load the data and prepare it for modeling. Note that the features are already processed for you, so the only thing needed here is split the data into training and testing. Use pandas to create two data frames: train_df and test_df, where train_df has 80% of the data chosen uniformly at random without replacement (test_df should have the other 20%). Also, make sure to write your own code to do the splits. You may use any random() function numpy but DO NOT use the data splitting functions from Sklearn."
   ]
  },
  {
   "cell_type": "code",
   "execution_count": 1,
   "metadata": {},
   "outputs": [],
   "source": [
    "import pandas as pd\n",
    "import numpy as np\n",
    "import matplotlib.pyplot as plt\n",
    "\n",
    "cell2cell_data = pd.read_csv(\"cell2cell_data.csv\")\n",
    "\n",
    "cell2cell_data.columns = ['revenue','outcalls','incalls','months','eqpdays','webcap','marryyes',\n",
    "                          'travel','pcown','creditcd','retcalls','churndep']\n",
    "\n",
    "spt = np.random.rand(len(cell2cell_data)) < 0.8\n",
    "train_df = cell2cell_data[spt]\n",
    "test_df = cell2cell_data[~spt]\n",
    "\n",
    "X_train = train_df.loc[:,'revenue':'retcalls']\n",
    "X_train = X_train.values\n",
    "y_train = train_df.loc[:,'churndep':'churndep']\n",
    "y_train = y_train.values\n",
    "\n",
    "X_test = test_df.loc[:,'revenue':'retcalls']\n",
    "X_test = X_test.values\n",
    "y_test = test_df.loc[:,'churndep':'churndep']\n",
    "y_test = y_test.values"
   ]
  },
  {
   "cell_type": "markdown",
   "metadata": {},
   "source": [
    "2\\. If we had to, how would we prove to ourselves or a colleague that our data was indeed randomly sampled on X? And by prove, I mean empirically, not just showing this person our code. Don't actually do the work, just describe in your own words a test you could here. Hint: think about this in terms of selection bias and use notes from our 2nd lecture."
   ]
  },
  {
   "cell_type": "markdown",
   "metadata": {},
   "source": [
    "**Answer:** If for any random varibale $S_i$ (here $S_i$ means any variable in the dataset, as `eqpdays` for example) $$\\Pr(S_i|test) = \\Pr(S_i)$$, which means that the sampling process doesn't suffer from the selection bias. Thus a test we can do is to check the difference of data distribution of $S_i$ and $S_i|test$. If there's no clear difference, (statistical tools such as T-test, F-test can be used), we can see it was sampled randomly "
   ]
  },
  {
   "cell_type": "markdown",
   "metadata": {},
   "source": [
    "3\\. Now build and train a decision tree classifier using `DecisionTreeClassifier()` [(manual page)](http://scikit-learn.org/stable/modules/generated/sklearn.tree.DecisionTreeClassifier.html) on train_df to predict the `\"churndep\"` target variable. Make sure to use `criterion='entropy'` when instantiating an instance of `DecisionTreeClassifier()`. For all other settings you should use all of the default options."
   ]
  },
  {
   "cell_type": "code",
   "execution_count": 2,
   "metadata": {},
   "outputs": [
    {
     "data": {
      "text/plain": [
       "DecisionTreeClassifier(class_weight=None, criterion='entropy', max_depth=None,\n",
       "            max_features=None, max_leaf_nodes=None,\n",
       "            min_impurity_decrease=0.0, min_impurity_split=None,\n",
       "            min_samples_leaf=1, min_samples_split=2,\n",
       "            min_weight_fraction_leaf=0.0, presort=False, random_state=None,\n",
       "            splitter='best')"
      ]
     },
     "execution_count": 2,
     "metadata": {},
     "output_type": "execute_result"
    }
   ],
   "source": [
    "from sklearn.tree import DecisionTreeClassifier \n",
    "\n",
    "classifier = DecisionTreeClassifier(criterion = 'entropy')\n",
    "classifier.fit(train_df.loc[:,'revenue':'retcalls'], train_df.loc[:,'churndep':'churndep'])"
   ]
  },
  {
   "cell_type": "markdown",
   "metadata": {},
   "source": [
    "4\\. Using the resulting model from 2.3, show a bar plot of feature names and their feature importance (hint: check the attributes of the `DecisionTreeClassifier()` object directly in IPython or check the manual!). Make sure the bar plot is sorted by increasing feature importance values."
   ]
  },
  {
   "cell_type": "code",
   "execution_count": 3,
   "metadata": {},
   "outputs": [
    {
     "data": {
      "image/png": "[encoded data removed]",
      "text/plain": [
       "<Figure size 432x288 with 1 Axes>"
      ]
     },
     "metadata": {},
     "output_type": "display_data"
    }
   ],
   "source": [
    "import operator\n",
    "data = dict(zip(train_df.columns[:-1],classifier.feature_importances_))\n",
    "data = dict(sorted(data.items(), key=operator.itemgetter(1), reverse = True))\n",
    "names = list(data.keys())\n",
    "values = list(data.values())\n",
    "for i in range(len(names)):\n",
    "    plt.barh(i,values[i],tick_label=names[i])\n",
    "plt.yticks(range(len(names)),names)\n",
    "plt.show()"
   ]
  },
  {
   "cell_type": "markdown",
   "metadata": {},
   "source": [
    "5\\. Is the relationship between the top 3 most important features (as measured here) negative or positive? If your marketing director asked you to explain the top 3 drivers of churn, how would you interpret the relationship between these 3 features and the churn outcome? What \"real-life\" connection can you draw between each variable and churn? Make sure to state your answer, and not just show code."
   ]
  },
  {
   "cell_type": "markdown",
   "metadata": {},
   "source": [
    "Based on pearson corraltion, `revenue` has negative corration with `eqpdays` but positive relationship with `outcalls`. `eqpdays` has negative correation with `outcalls` but positive correlatioon with `churndep`. Since customers make more outcalls will spend more money on the monthly payment, thus those two variables have postive relationship, which also means that people are more likely to stay on the platform. Also, if a user use his phone service for long time, his usage is more likely to be of a stable tendency. It might also true that if that churn risk is higher among users who stay for long but spend less compared with users who stay for long but spend more (proved by the following table)."
   ]
  },
  {
   "cell_type": "code",
   "execution_count": 143,
   "metadata": {},
   "outputs": [
    {
     "data": {
      "text/html": [
       "<div>\n",
       "<style scoped>\n",
       "    .dataframe tbody tr th:only-of-type {\n",
       "        vertical-align: middle;\n",
       "    }\n",
       "\n",
       "    .dataframe tbody tr th {\n",
       "        vertical-align: top;\n",
       "    }\n",
       "\n",
       "    .dataframe thead th {\n",
       "        text-align: right;\n",
       "    }\n",
       "</style>\n",
       "<table border=\"1\" class=\"dataframe\">\n",
       "  <thead>\n",
       "    <tr style=\"text-align: right;\">\n",
       "      <th></th>\n",
       "      <th>revenue</th>\n",
       "      <th>eqpdays</th>\n",
       "      <th>outcalls</th>\n",
       "      <th>churndep</th>\n",
       "    </tr>\n",
       "  </thead>\n",
       "  <tbody>\n",
       "    <tr>\n",
       "      <th>revenue</th>\n",
       "      <td>1.000000</td>\n",
       "      <td>-0.222333</td>\n",
       "      <td>0.498209</td>\n",
       "      <td>-0.015431</td>\n",
       "    </tr>\n",
       "    <tr>\n",
       "      <th>eqpdays</th>\n",
       "      <td>-0.222333</td>\n",
       "      <td>1.000000</td>\n",
       "      <td>-0.242408</td>\n",
       "      <td>0.115846</td>\n",
       "    </tr>\n",
       "    <tr>\n",
       "      <th>outcalls</th>\n",
       "      <td>0.498209</td>\n",
       "      <td>-0.242408</td>\n",
       "      <td>1.000000</td>\n",
       "      <td>-0.037322</td>\n",
       "    </tr>\n",
       "    <tr>\n",
       "      <th>churndep</th>\n",
       "      <td>-0.015431</td>\n",
       "      <td>0.115846</td>\n",
       "      <td>-0.037322</td>\n",
       "      <td>1.000000</td>\n",
       "    </tr>\n",
       "  </tbody>\n",
       "</table>\n",
       "</div>"
      ],
      "text/plain": [
       "           revenue   eqpdays  outcalls  churndep\n",
       "revenue   1.000000 -0.222333  0.498209 -0.015431\n",
       "eqpdays  -0.222333  1.000000 -0.242408  0.115846\n",
       "outcalls  0.498209 -0.242408  1.000000 -0.037322\n",
       "churndep -0.015431  0.115846 -0.037322  1.000000"
      ]
     },
     "execution_count": 143,
     "metadata": {},
     "output_type": "execute_result"
    }
   ],
   "source": [
    "# Pearson correlation\n",
    "train_df[['revenue','eqpdays','outcalls','churndep']].corr('pearson')"
   ]
  },
  {
   "cell_type": "code",
   "execution_count": 4,
   "metadata": {},
   "outputs": [
    {
     "data": {
      "text/html": [
       "<div>\n",
       "<style scoped>\n",
       "    .dataframe tbody tr th:only-of-type {\n",
       "        vertical-align: middle;\n",
       "    }\n",
       "\n",
       "    .dataframe tbody tr th {\n",
       "        vertical-align: top;\n",
       "    }\n",
       "\n",
       "    .dataframe thead tr th {\n",
       "        text-align: left;\n",
       "    }\n",
       "\n",
       "    .dataframe thead tr:last-of-type th {\n",
       "        text-align: right;\n",
       "    }\n",
       "</style>\n",
       "<table border=\"1\" class=\"dataframe\">\n",
       "  <thead>\n",
       "    <tr>\n",
       "      <th></th>\n",
       "      <th></th>\n",
       "      <th>sum</th>\n",
       "      <th>count</th>\n",
       "      <th>churn_perc</th>\n",
       "    </tr>\n",
       "    <tr>\n",
       "      <th></th>\n",
       "      <th></th>\n",
       "      <th>churndep</th>\n",
       "      <th>churndep</th>\n",
       "      <th></th>\n",
       "    </tr>\n",
       "    <tr>\n",
       "      <th>eqpdays_</th>\n",
       "      <th>revenue_</th>\n",
       "      <th></th>\n",
       "      <th></th>\n",
       "      <th></th>\n",
       "    </tr>\n",
       "  </thead>\n",
       "  <tbody>\n",
       "    <tr>\n",
       "      <th rowspan=\"6\" valign=\"top\">(-6.828, 299.667]</th>\n",
       "      <th>(-6.721, 137.7]</th>\n",
       "      <td>4604</td>\n",
       "      <td>11811</td>\n",
       "      <td>0.389806</td>\n",
       "    </tr>\n",
       "    <tr>\n",
       "      <th>(137.7, 281.26]</th>\n",
       "      <td>416</td>\n",
       "      <td>866</td>\n",
       "      <td>0.480370</td>\n",
       "    </tr>\n",
       "    <tr>\n",
       "      <th>(281.26, 424.82]</th>\n",
       "      <td>37</td>\n",
       "      <td>81</td>\n",
       "      <td>0.456790</td>\n",
       "    </tr>\n",
       "    <tr>\n",
       "      <th>(424.82, 568.38]</th>\n",
       "      <td>10</td>\n",
       "      <td>25</td>\n",
       "      <td>0.400000</td>\n",
       "    </tr>\n",
       "    <tr>\n",
       "      <th>(568.38, 711.94]</th>\n",
       "      <td>1</td>\n",
       "      <td>7</td>\n",
       "      <td>0.142857</td>\n",
       "    </tr>\n",
       "    <tr>\n",
       "      <th>(711.94, 855.5]</th>\n",
       "      <td>2</td>\n",
       "      <td>3</td>\n",
       "      <td>0.666667</td>\n",
       "    </tr>\n",
       "    <tr>\n",
       "      <th rowspan=\"5\" valign=\"top\">(299.667, 604.333]</th>\n",
       "      <th>(-6.721, 137.7]</th>\n",
       "      <td>7180</td>\n",
       "      <td>12687</td>\n",
       "      <td>0.565934</td>\n",
       "    </tr>\n",
       "    <tr>\n",
       "      <th>(137.7, 281.26]</th>\n",
       "      <td>261</td>\n",
       "      <td>453</td>\n",
       "      <td>0.576159</td>\n",
       "    </tr>\n",
       "    <tr>\n",
       "      <th>(281.26, 424.82]</th>\n",
       "      <td>19</td>\n",
       "      <td>32</td>\n",
       "      <td>0.593750</td>\n",
       "    </tr>\n",
       "    <tr>\n",
       "      <th>(424.82, 568.38]</th>\n",
       "      <td>1</td>\n",
       "      <td>5</td>\n",
       "      <td>0.200000</td>\n",
       "    </tr>\n",
       "    <tr>\n",
       "      <th>(711.94, 855.5]</th>\n",
       "      <td>0</td>\n",
       "      <td>1</td>\n",
       "      <td>0.000000</td>\n",
       "    </tr>\n",
       "    <tr>\n",
       "      <th rowspan=\"4\" valign=\"top\">(604.333, 909.0]</th>\n",
       "      <th>(-6.721, 137.7]</th>\n",
       "      <td>2487</td>\n",
       "      <td>4505</td>\n",
       "      <td>0.552053</td>\n",
       "    </tr>\n",
       "    <tr>\n",
       "      <th>(137.7, 281.26]</th>\n",
       "      <td>39</td>\n",
       "      <td>82</td>\n",
       "      <td>0.475610</td>\n",
       "    </tr>\n",
       "    <tr>\n",
       "      <th>(281.26, 424.82]</th>\n",
       "      <td>4</td>\n",
       "      <td>4</td>\n",
       "      <td>1.000000</td>\n",
       "    </tr>\n",
       "    <tr>\n",
       "      <th>(424.82, 568.38]</th>\n",
       "      <td>0</td>\n",
       "      <td>1</td>\n",
       "      <td>0.000000</td>\n",
       "    </tr>\n",
       "    <tr>\n",
       "      <th rowspan=\"2\" valign=\"top\">(909.0, 1213.667]</th>\n",
       "      <th>(-6.721, 137.7]</th>\n",
       "      <td>696</td>\n",
       "      <td>1179</td>\n",
       "      <td>0.590331</td>\n",
       "    </tr>\n",
       "    <tr>\n",
       "      <th>(137.7, 281.26]</th>\n",
       "      <td>8</td>\n",
       "      <td>15</td>\n",
       "      <td>0.533333</td>\n",
       "    </tr>\n",
       "    <tr>\n",
       "      <th>(1213.667, 1518.333]</th>\n",
       "      <th>(-6.721, 137.7]</th>\n",
       "      <td>138</td>\n",
       "      <td>206</td>\n",
       "      <td>0.669903</td>\n",
       "    </tr>\n",
       "    <tr>\n",
       "      <th>(1518.333, 1823.0]</th>\n",
       "      <th>(-6.721, 137.7]</th>\n",
       "      <td>18</td>\n",
       "      <td>38</td>\n",
       "      <td>0.473684</td>\n",
       "    </tr>\n",
       "  </tbody>\n",
       "</table>\n",
       "</div>"
      ],
      "text/plain": [
       "                                           sum    count churn_perc\n",
       "                                      churndep churndep           \n",
       "eqpdays_             revenue_                                     \n",
       "(-6.828, 299.667]    (-6.721, 137.7]      4604    11811   0.389806\n",
       "                     (137.7, 281.26]       416      866   0.480370\n",
       "                     (281.26, 424.82]       37       81   0.456790\n",
       "                     (424.82, 568.38]       10       25   0.400000\n",
       "                     (568.38, 711.94]        1        7   0.142857\n",
       "                     (711.94, 855.5]         2        3   0.666667\n",
       "(299.667, 604.333]   (-6.721, 137.7]      7180    12687   0.565934\n",
       "                     (137.7, 281.26]       261      453   0.576159\n",
       "                     (281.26, 424.82]       19       32   0.593750\n",
       "                     (424.82, 568.38]        1        5   0.200000\n",
       "                     (711.94, 855.5]         0        1   0.000000\n",
       "(604.333, 909.0]     (-6.721, 137.7]      2487     4505   0.552053\n",
       "                     (137.7, 281.26]        39       82   0.475610\n",
       "                     (281.26, 424.82]        4        4   1.000000\n",
       "                     (424.82, 568.38]        0        1   0.000000\n",
       "(909.0, 1213.667]    (-6.721, 137.7]       696     1179   0.590331\n",
       "                     (137.7, 281.26]         8       15   0.533333\n",
       "(1213.667, 1518.333] (-6.721, 137.7]       138      206   0.669903\n",
       "(1518.333, 1823.0]   (-6.721, 137.7]        18       38   0.473684"
      ]
     },
     "execution_count": 4,
     "metadata": {},
     "output_type": "execute_result"
    }
   ],
   "source": [
    "df = (pd.DataFrame(train_df, columns=['revenue','eqpdays','churndep'])\n",
    "      .assign(revenue_=lambda x: pd.cut(x.revenue, bins=6), eqpdays_=lambda x: pd.cut(x.eqpdays, bins=6))\n",
    "      .groupby(['eqpdays_','revenue_'])\n",
    "      .agg({'churndep': ['sum', 'count']})\n",
    "     )\n",
    "\n",
    "df.reset_index()\n",
    "df.columns\n",
    "df = df.swaplevel(0,1,axis =1)\n",
    "df['churn_perc']=df['sum']/df['count']\n",
    "df"
   ]
  },
  {
   "cell_type": "markdown",
   "metadata": {},
   "source": [
    "6\\. Using the classifier built in 2.3, try predicting \"churndep\" on both the train_df and test_df data sets. What is the accuracy on each? What is your explanation on the difference (or lackthereof) between the two accuracies?"
   ]
  },
  {
   "cell_type": "markdown",
   "metadata": {},
   "source": [
    "The accurracy of training data is `0.9998` and test data is `0.5287`. Higher difference is because that the model is overfitting against training data, as a result, the model doesn't perform well on the test data. "
   ]
  },
  {
   "cell_type": "code",
   "execution_count": 8,
   "metadata": {},
   "outputs": [
    {
     "name": "stdout",
     "output_type": "stream",
     "text": [
      "Report : test data\n",
      "Predicted values:\n",
      "[0 0 0 ... 0 1 1]\n",
      "Confusion Matrix:  [[2048 1830]\n",
      " [1873 2106]]\n",
      "Accuracy :  52.870052182766955\n",
      "Report :               precision    recall  f1-score   support\n",
      "\n",
      "          0       0.52      0.53      0.53      3878\n",
      "          1       0.54      0.53      0.53      3979\n",
      "\n",
      "avg / total       0.53      0.53      0.53      7857\n",
      "\n",
      "--------------------------------------------------\n",
      "Report : training data\n",
      "Predicted values:\n",
      "[1 1 1 ... 0 0 0]\n",
      "Confusion Matrix:  [[16080     0]\n",
      " [    3 15918]]\n",
      "Accuracy :  99.99062529295959\n",
      "Report :               precision    recall  f1-score   support\n",
      "\n",
      "          0       1.00      1.00      1.00     16080\n",
      "          1       1.00      1.00      1.00     15921\n",
      "\n",
      "avg / total       1.00      1.00      1.00     32001\n",
      "\n"
     ]
    }
   ],
   "source": [
    "from sklearn.metrics import confusion_matrix,accuracy_score,classification_report\n",
    "# Function to make predictions \n",
    "def prediction(X_test, clf_object): \n",
    "  \n",
    "    # Predicton on test with giniIndex \n",
    "    y_pred = clf_object.predict(X_test) \n",
    "    print(\"Predicted values:\") \n",
    "    print(y_pred) \n",
    "    return y_pred \n",
    "      \n",
    "# Function to calculate accuracy \n",
    "def cal_accuracy(y_test, y_pred): \n",
    "      \n",
    "    print(\"Confusion Matrix: \", confusion_matrix(y_test, y_pred)) \n",
    "      \n",
    "    print (\"Accuracy : \", accuracy_score(y_test,y_pred)*100) \n",
    "      \n",
    "    print(\"Report : \", classification_report(y_test, y_pred)) \n",
    "\n",
    "print(\"Report : test data\") \n",
    "y_pred = prediction(X_test, classifier) \n",
    "cal_accuracy(y_test, y_pred) \n",
    "print(\"--------------------------------------------------\") \n",
    "print(\"Report : training data\") \n",
    "y_pred = prediction(X_train, classifier) \n",
    "cal_accuracy(y_train, y_pred)"
   ]
  },
  {
   "cell_type": "markdown",
   "metadata": {},
   "source": [
    "### Part 3 - Finding a Good Decision Tree (10 Points)\n",
    "The default options for your decision tree may not be optimal. We need to analyze whether tuning the parameters can improve the accuracy of the classifier.  For the following options `min_samples_split` and `min_samples_leaf`:"
   ]
  },
  {
   "cell_type": "markdown",
   "metadata": {},
   "source": [
    "1\\. Generate a list of 10 values of each for the parameters mim_samples_split and min_samples_leaf. "
   ]
  },
  {
   "cell_type": "code",
   "execution_count": 35,
   "metadata": {},
   "outputs": [],
   "source": [
    "min_samples_split_values = np.linspace(0.07, 0.15, 10, endpoint=True)\n",
    "min_samples_leaf_values = np.linspace(0.0005, 0.10, 10, endpoint=True)\n"
   ]
  },
  {
   "cell_type": "markdown",
   "metadata": {},
   "source": [
    "2\\. Explain in words your reasoning for choosing the above ranges."
   ]
  },
  {
   "cell_type": "markdown",
   "metadata": {},
   "source": [
    "`min_samples_split` represents the minimum number of samples required to split an internal node. if float, then min_samples_split is a fraction and ceil(min_samples_split * n_samples) are the minimum number of samples for each split. This can vary between considering at least one sample at each node to considering all of the samples at each node, and the range is between `(0%, 100%]` of the sample size. thus from the start I evently split the range from `[5%, 100%]`, in order to cover the most of the data. As I manipulate the parameter and accuracy, I found that the range `[7%, 15%]` I will get a higher accuracy\n",
    "\n",
    "`min_samples_leaf` is The minimum number of samples required to be at a leaf node. f float, then min_samples_leaf is a fraction and ceil(min_samples_leaf * n_samples) are the minimum number of samples for each node. This parameter is similar to min_samples_splits, however, this describe the minimum number of samples of samples at the leafs, the base of the tree  [(reference)](https://medium.com/@mohtedibf/indepth-parameter-tuning-for-decision-tree-6753118a03c3) and the range is between `(0%, 50%]` of the sample size. thus from the start I evently split the range from `[5%, 50%]`, in order to cover the most of the data. As I manipulate the parameter and accuracy, I found that the range `[0.05%, 10%]` I will get a higher accuracy"
   ]
  },
  {
   "cell_type": "markdown",
   "metadata": {},
   "source": [
    "3\\. For each combination of values in 3.1 (there should be 100), build a new classifier and check the classifier's accuracy on the test data. Plot the test set accuracy for these options. Use the values of `min_samples_split` as the x-axis and generate a new series (line) for each of `min_samples_leaf`."
   ]
  },
  {
   "cell_type": "code",
   "execution_count": 38,
   "metadata": {},
   "outputs": [
    {
     "data": {
      "image/png": "[encoded data removed]",
      "text/plain": [
       "<Figure size 432x288 with 1 Axes>"
      ]
     },
     "metadata": {},
     "output_type": "display_data"
    }
   ],
   "source": [
    "import matplotlib.pyplot as plt\n",
    "from sklearn.metrics import confusion_matrix,accuracy_score,classification_report,roc_curve,auc\n",
    "%matplotlib inline\n",
    "\n",
    "min_samples_split_values = np.linspace(0.07, 0.15, 10, endpoint=True)\n",
    "min_samples_leaf_values = np.linspace(0.0005, 0.10, 10, endpoint=True)\n",
    "\n",
    "test_results  = []\n",
    "for min_samples_split in min_samples_split_values:\n",
    "    for min_samples_leaf in min_samples_leaf_values:\n",
    "        dt = DecisionTreeClassifier(min_samples_split=min_samples_split,min_samples_leaf=min_samples_leaf)\n",
    "        dt.fit(X_train, y_train)\n",
    "        y_pred = dt.predict(X_test)\n",
    "        roc_auc = accuracy_score(y_test, y_pred)\n",
    "        test_results.append([min_samples_split, min_samples_leaf, roc_auc])\n",
    "\n",
    "df = pd.DataFrame(test_results, columns = ['min_samples_split','min_samples_leaf','Accuracy'])\n",
    "for i in min_samples_leaf_values:\n",
    "    plt.plot('min_samples_split', 'Accuracy', data=df[df['min_samples_leaf'] == i],label = round(i,3))\n",
    "    plt.legend(loc='lower right')\n",
    "plt.ylabel('Accuracy score')\n",
    "plt.xlabel('min_samples_split')\n",
    "plt.show()"
   ]
  },
  {
   "cell_type": "markdown",
   "metadata": {},
   "source": [
    "4\\. Which configuration returns the best accuracy? What is this accuracy? (Note, if you don't see much variation in the test set accuracy across values of min_samples_split or min_samples_leaf, try redoing the above steps with a different range of values), and reassess your answer in Q3.2."
   ]
  },
  {
   "cell_type": "markdown",
   "metadata": {},
   "source": [
    "The following below gets the best accuracy \n",
    "\n",
    "`min_samples_split    0.105556\n",
    "min_samples_leaf     0.000500\n",
    "roc_auc              0.598575`"
   ]
  },
  {
   "cell_type": "code",
   "execution_count": 39,
   "metadata": {},
   "outputs": [
    {
     "data": {
      "text/plain": [
       "min_samples_split    0.105556\n",
       "min_samples_leaf     0.000500\n",
       "Accuracy             0.598575\n",
       "Name: 40, dtype: float64"
      ]
     },
     "execution_count": 39,
     "metadata": {},
     "output_type": "execute_result"
    }
   ],
   "source": [
    "df.loc[df['Accuracy'].idxmax()]"
   ]
  },
  {
   "cell_type": "markdown",
   "metadata": {},
   "source": [
    "5\\. If you were working for a marketing department, how would you use your churn production model in a real business environment? Explain why churn prediction might be good for the business and how one might improve churn by using this model."
   ]
  },
  {
   "cell_type": "markdown",
   "metadata": {},
   "source": [
    "Using the churn model, marketing team can use marketing strategies such as discount or sales promotion or personalized customer service outbound calls to contact with high risk customers and retain them beforehind in order to decrease the churn rate. In other words, take action before it's late. It's good for the company to cut cost, since the cost of retaining a customer is far lower than acquiring a new one, and as a result increase the total revenue.  "
   ]
  }
 ],
 "metadata": {
  "kernelspec": {
   "display_name": "Python 36",
   "language": "python",
   "name": "py36"
  },
  "language_info": {
   "codemirror_mode": {
    "name": "ipython",
    "version": 3
   },
   "file_extension": ".py",
   "mimetype": "text/x-python",
   "name": "python",
   "nbconvert_exporter": "python",
   "pygments_lexer": "ipython3",
   "version": "3.6.5"
  },
  "varInspector": {
   "cols": {
    "lenName": 16,
    "lenType": 16,
    "lenVar": 40
   },
   "kernels_config": {
    "python": {
     "delete_cmd_postfix": "",
     "delete_cmd_prefix": "del ",
     "library": "var_list.py",
     "varRefreshCmd": "print(var_dic_list())"
    },
    "r": {
     "delete_cmd_postfix": ") ",
     "delete_cmd_prefix": "rm(",
     "library": "var_list.r",
     "varRefreshCmd": "cat(var_dic_list()) "
    }
   },
   "types_to_exclude": [
    "module",
    "function",
    "builtin_function_or_method",
    "instance",
    "_Feature"
   ],
   "window_display": false
  }
 },
 "nbformat": 4,
 "nbformat_minor": 1
}
